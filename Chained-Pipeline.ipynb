{
 "cells": [
  {
   "cell_type": "markdown",
   "metadata": {},
   "source": [
    "# Chained Pipeline: ABAP Code Data Type Modernization\n",
    "\n",
    "This notebook executes a pipeline for ABAP code remediation:\n",
    "\n",
    "1. **Scan Program**: Extracts SELECT queries, DATA TYPEs, and FUNCTION models using `Scan-Program.ipynb` logic.\n",
    "2. **Transform DATA TYPEs**: For each found DATA TYPE, uses the mapping in `Transform-DE-DT.ipynb` to get its S4 declaration. The code is then rewritten, replacing every original DATA TYPE with the mapped S4 declaration.\n",
    "\n",
    "## Requirements\n",
    "- Place `Scan-Program.ipynb`, `Transform-DE-DT.ipynb`, and `Mapping-DE-DT.xlsx` in the same folder.\n",
    "- Set `input_code_file` to the path of the ABAP code file to process (or supply the code as a list of lines).\n",
    "- The output is a transformed version of the ABAP code, printed as text (and optionally written to a file).\n"
   ]
  },
  {
   "cell_type": "code",
   "metadata": {},
   "source": [
    "# Import scanner and transformer code from the supplied notebooks\n",
    "# For a real pipeline, you'd use %run or refactor the code into modules. Here, we inline the logic for clarity.\n",
    "import re\n",
    "import pandas as pd\n"
   ],
   "execution_count": null,
   "outputs": []
  },
  {
   "cell_type": "markdown",
   "metadata": {},
   "source": [
    "## 1. Load and Scan the ABAP Code"
   ]
  },
  {
   "cell_type": "code",
   "metadata": {},
   "source": [
    "# --- Load your ABAP program ---\n",
    "input_code_file = 'sample_program.abap'  # Change this to your ABAP code file path\n",
    "with open(input_code_file, encoding='utf-8') as f:\n",
    "    code_lines = [line.rstrip('\\n') for line in f]\n",
    "\n",
    "# --- Scanner logic from Scan-Program.ipynb ---\n",
    "def scan_keywords(code_lines):\n",
    "    select_queries = []\n",
    "    data_types = []\n",
    "    function_names = []\n",
    "    in_select = False\n",
    "    current_select = []\n",
    "    for line in code_lines:\n",
    "        l = line.rstrip()\n",
    "        if not in_select and re.search(r'\\bSELECT\\b', l, re.IGNORECASE):\n",
    "            in_select = True\n",
    "            current_select = [l]\n",
    "            if l.strip().endswith(('.', ';')):\n",
    "                select_queries.append(' '.join(current_select))\n",
    "                in_select = False\n",
    "                current_select = []\n",
    "            continue\n",
    "        if in_select:\n",
    "            current_select.append(l)\n",
    "            if l.strip().endswith(('.', ';')):\n",
    "                select_queries.append(' '.join(current_select))\n",
    "                in_select = False\n",
    "                current_select = []\n",
    "            continue\n",
    "        if re.search(r'\\bDATA\\b', l, re.IGNORECASE):\n",
    "            match = re.search(r'TYPE\\s+([\\w\\.\\_]+)', l, re.IGNORECASE)\n",
    "            if match:\n",
    "                data_types.append(match.group(1))\n",
    "        if re.search(r'\\bCALL FUNCTION\\b', l, re.IGNORECASE):\n",
    "            match = re.search(r'CALL FUNCTION\\s+[\"\\']?([\\w\\_]+)[\"\\']?', l, re.IGNORECASE)\n",
    "            if match:\n",
    "                function_names.append(match.group(1))\n",
    "    return select_queries, data_types, function_names\n",
    "\n",
    "selects, data_types, functions = scan_keywords(code_lines)\n",
    "\n",
    "print('SELECT Queries:')\n",
    "for s in selects:\n",
    "    print('---')\n",
    "    print(s)\n",
    "\n",
    "print('\\nDATA TYPEs:')\n",
    "for d in data_types:\n",
    "    print(' ', d)\n",
    "\n",
    "print('\\nFUNCTION Names:')\n",
    "for f in functions:\n",
    "    print(' ', f)\n"
   ],
   "execution_count": null,
   "outputs": []
  },
  {
   "cell_type": "markdown",
   "metadata": {},
   "source": [
    "## 2. Load the Mapping Sheet and Build the Data Type Transformation Map"
   ]
  },
  {
   "cell_type": "code",
   "metadata": {},
   "source": [
    "mapping_file = 'Mapping-DE-DT.xlsx'  # Should be in the same folder\n",
    "df = pd.read_excel(mapping_file)\n",
    "\n",
    "def get_s4_declaration(data_element):\n",
    "    row = df.loc[df['CRM'] == data_element]\n",
    "    if row.empty:\n",
    "        return None  # No mapping found\n",
    "    s4 = str(row.iloc[0]['S4']).strip()\n",
    "    length = row.iloc[0]['LENGTH'] if 'LENGTH' in row.columns else None\n",
    "    decimal = row.iloc[0]['DECIMAL'] if 'DECIMAL' in row.columns else None\n",
    "    result = s4\n",
    "    if pd.notnull(length):\n",
    "        result += f\" LENGTH {int(float(length))}\"\n",
    "    if decimal is not None and pd.notnull(decimal):\n",
    "        result += f\" DECIMALS {int(float(decimal))}\"\n",
    "    return result\n",
    "\n",
    "# Build mapping for all detected DATA TYPEs\n",
    "type_transform_map = {}\n",
    "for dtype in set(data_types):\n",
    "    mapped = get_s4_declaration(dtype)\n",
    "    if mapped:\n",
    "        type_transform_map[dtype] = mapped\n",
    "\n",
    "print('Data Element Mappings:')\n",
    "for k, v in type_transform_map.items():\n",
    "    print(f'  {k} -> {v}')\n"
   ],
   "execution_count": null,
   "outputs": []
  },
  {
   "cell_type": "markdown",
   "metadata": {},
   "source": [
    "## 3. Replace DATA TYPEs in Code Using the Discovered Mappings"
   ]
  },
  {
   "cell_type": "code",
   "metadata": {},
   "source": [
    "def replace_data_types_in_line(line, type_map):\n",
    "    # Replace only the TYPE <type> part in a DATA line\n",
    "    # Handles e.g. DATA lv_name TYPE string.\n",
    "    for orig, repl in type_map.items():\n",
    "        # Use regex with word boundary to avoid partial matches\n",
    "        # Accepts 'TYPE xxx' where xxx is the original type\n",
    "        pattern = rf'(TYPE\\s+){orig}\\b'\n",
    "        if re.search(pattern, line, flags=re.IGNORECASE):\n",
    "            # Only replace the type, keep rest of line (e.g. ending dot)\n",
    "            line = re.sub(pattern, f\"\\\\1{repl}\", line, flags=re.IGNORECASE)\n",
    "    return line\n",
    "\n",
    "transformed_lines = []\n",
    "for line in code_lines:\n",
    "    transformed_lines.append(replace_data_types_in_line(line, type_transform_map))\n",
    "\n",
    "# Optionally, write output to a new file\n",
    "output_file = input_code_file.replace('.abap', '_S4.abap')\n",
    "with open(output_file, 'w', encoding='utf-8') as f:\n",
    "    for line in transformed_lines:\n",
    "        f.write(line + '\\n')\n",
    "\n",
    "# Preview the transformed code\n",
    "print('\\n===== Transformed ABAP Program =====\\n')\n",
    "for line in transformed_lines:\n",
    "    print(line)\n"
   ],
   "execution_count": null,
   "outputs": []
  }
 ],
 "metadata": {
  "kernelspec": {
   "display_name": "Python 3",
   "language": "python",
   "name": "python3"
  },
  "language_info": {
   "name": "python",
   "version": "3.13.7"
  }
 },
 "nbformat": 4,
 "nbformat_minor": 5
}