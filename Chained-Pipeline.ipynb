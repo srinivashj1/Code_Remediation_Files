{
 "cells": [
  {
   "cell_type": "markdown",
   "metadata": {},
   "source": [
    "# Chained Code Remediation Pipeline\n",
    "This notebook performs a two-step process:\n",
    "1. **Scans code to extract SELECT queries, data types, and function models**\n",
    "2. **Maps and transforms data types using S4 mapping from an external Excel, updating code lines if mapping found**\n",
    "\n",
    "Input notebooks required in the working directory:\n",
    "- `Scan-Program.ipynb` (for scanning ABAP code)\n",
    "- `Transform-DE-DT.ipynb` (for data element mapping logic)\n",
    "- `Mapping-DE-DT.xlsx` (for mapping data elements to S4 types)\n",
    "\n",
    "You can adapt the `sample_code` variable to your own ABAP code for processing."
   ]
  },
  {
   "cell_type": "code",
   "metadata": {},
   "source": [
    "# Step 1: Import scan logic from Scan-Program.ipynb\n",
    "# (copy-paste here, or use %run if on local Jupyter)\n",
    "import re\n",
    "\n",
    "def scan_keywords(code_lines):\n",
    "    select_queries = []\n",
    "    data_types = []\n",
    "    function_names = []\n",
    "    \n",
    "    in_select = False\n",
    "    current_select = []\n",
    "    for line in code_lines:\n",
    "        l = line.rstrip()\n",
    "        # SELECT block\n",
    "        if not in_select and re.search(r'\\bSELECT\\b', l, re.IGNORECASE):\n",
    "            in_select = True\n",
    "            current_select = [l]\n",
    "            if l.strip().endswith(('.', ';')):\n",
    "                select_queries.append(' '.join(current_select))\n",
    "                in_select = False\n",
    "                current_select = []\n",
    "            continue\n",
    "        if in_select:\n",
    "            current_select.append(l)\n",
    "            if l.strip().endswith(('.', ';')):\n",
    "                select_queries.append(' '.join(current_select))\n",
    "                in_select = False\n",
    "                current_select = []\n",
    "            continue\n",
    "        # DATA: TYPE after TYPE keyword\n",
    "        if re.search(r'\\bDATA\\b', l, re.IGNORECASE):\n",
    "            match = re.search(r'TYPE\\s+([\\w\\.\\_]+)', l, re.IGNORECASE)\n",
    "            if match:\n",
    "                data_types.append(match.group(1))\n",
    "        # CALL FUNCTION: function name\n",
    "        if re.search(r'\\bCALL FUNCTION\\b', l, re.IGNORECASE):\n",
    "            match = re.search(r'CALL FUNCTION\\s+[\"\\']?([\\w\\_]+)[\"\\']?', l, re.IGNORECASE)\n",
    "            if match:\n",
    "                function_names.append(match.group(1))\n",
    "    return select_queries, data_types, function_names"
   ],
   "execution_count": null,
   "outputs": []
  },
  {
   "cell_type": "markdown",
   "metadata": {},
   "source": [
    "## Sample ABAP Code\n",
    "Replace `sample_code` with your own codebase as a list of lines for testing."
   ]
  },
  {
   "cell_type": "code",
   "metadata": {},
   "source": [
    "sample_code = [\n",
    "    'SELECT *',\n",
    "    '  FROM users',\n",
    "    '  WHERE id = 1;',\n",
    "    'DATA lv_name TYPE string.',\n",
    "    'CALL FUNCTION \"BAPI_USER_CREATE\".',\n",
    "    'WRITE lv_name.',\n",
    "    'SELECT id, name',\n",
    "    '  FROM customers',\n",
    "    '  WHERE active = 1',\n",
    "    '  ORDER BY name.',\n",
    "    'data: lt_orders TYPE TABLE_OF_ORDERS.',\n",
    "    'call function \"Z_CUSTOM_MODULE\".',\n",
    "    'DATA number TYPE i.',\n",
    "    'CALL FUNCTION \\'RFC_PING\\'.'\n",
    "]"
   ],
   "execution_count": null,
   "outputs": []
  },
  {
   "cell_type": "code",
   "metadata": {},
   "source": [
    "# Step 2: Run scan to extract SELECTs, Data Types, Functions\n",
    "selects, data_types, functions = scan_keywords(sample_code)\n",
    "print('SELECT Queries:')\n",
    "for s in selects:\n",
    "    print(s)\n",
    "print('\\nDATA TYPEs:')\n",
    "for d in data_types:\n",
    "    print(d)\n",
    "print('\\nFUNCTION Names:')\n",
    "for f in functions:\n",
    "    print(f)"
   ],
   "execution_count": null,
   "outputs": []
  },
  {
   "cell_type": "markdown",
   "metadata": {},
   "source": [
    "## Step 3: Import the Data Element Mapping Logic\n",
    "We use the mapping function from `Transform-DE-DT.ipynb` for S4 mapping.\n",
    "\n",
    "Make sure `Mapping-DE-DT.xlsx` is present in the working directory."
   ]
  },
  {
   "cell_type": "code",
   "metadata": {},
   "source": [
    "import pandas as pd\n",
    "mapping_file = 'Mapping-DE-DT.xlsx'\n",
    "df_map = pd.read_excel(mapping_file)\n",
    "\n",
    "def get_s4_declaration(data_element):\n",
    "    row = df_map.loc[df_map['CRM'] == data_element]\n",
    "    if row.empty:\n",
    "        return None  # Indicate no mapping\n",
    "    s4 = str(row.iloc[0]['S4']).strip()\n",
    "    length = row.iloc[0]['LENGTH'] if 'LENGTH' in row.columns else None\n",
    "    decimal = row.iloc[0]['DECIMAL'] if 'DECIMAL' in row.columns else None\n",
    "    result = s4\n",
    "    if pd.notnull(length):\n",
    "        result += f\" LENGTH {int(float(length))}\"\n",
    "    if decimal is not None and pd.notnull(decimal):\n",
    "        result += f\" DECIMALS {int(float(decimal))}\"\n",
    "    return result"
   ],
   "execution_count": null,
   "outputs": []
  },
  {
   "cell_type": "markdown",
   "metadata": {},
   "source": [
    "## Step 4: Create a Remediation Plan\n",
    "- For each data type found, get the mapped S4 declaration (if available).\n",
    "- For each line in code, replace original data type with mapped S4 declaration **only if mapping is found**.\n",
    "- If no mapping, leave code unchanged."
   ]
  },
  {
   "cell_type": "code",
   "metadata": {},
   "source": [
    "# Build mapping dict: {original_type: mapped_declaration}\n",
    "mapping_results = {}\n",
    "for dt in set(data_types):\n",
    "    mapped = get_s4_declaration(dt)\n",
    "    if mapped:\n",
    "        mapping_results[dt] = mapped\n",
    "\n",
    "print('Mapping Results:')\n",
    "for k, v in mapping_results.items():\n",
    "    print(f'{k} -> {v}')"
   ],
   "execution_count": null,
   "outputs": []
  },
  {
   "cell_type": "markdown",
   "metadata": {},
   "source": [
    "## Step 5: Replace Code with Mapped Data Types\n",
    "- Only change the TYPE clause if mapping is found."
   ]
  },
  {
   "cell_type": "code",
   "metadata": {},
   "source": [
    "import copy\n",
    "\n",
    "remediated_code = copy.deepcopy(sample_code)\n",
    "\n",
    "for i, line in enumerate(remediated_code):\n",
    "    if re.search(r'\\bDATA\\b', line, re.IGNORECASE):\n",
    "        match = re.search(r'(TYPE\\s+)([\\w\\.\\_]+)', line, re.IGNORECASE)\n",
    "        if match:\n",
    "            original_type = match.group(2)\n",
    "            if original_type in mapping_results:\n",
    "                # Replace only the type part\n",
    "                mapped_decl = mapping_results[original_type]\n",
    "                new_line = re.sub(r'(TYPE\\s+)([\\w\\.\\_]+)', f\"\\\\1{mapped_decl}\", line, count=1, flags=re.IGNORECASE)\n",
    "                remediated_code[i] = new_line\n",
    "\n",
    "print('--- Remediated Code ---')\n",
    "for l in remediated_code:\n",
    "    print(l)"
   ],
   "execution_count": null,
   "outputs": []
  },
  {
   "cell_type": "markdown",
   "metadata": {},
   "source": [
    "## Summary\n",
    "- Extracted SELECT queries, Data Types, and Function Names\n",
    "- Mapped and replaced Data Types in code using the mapping sheet, only where mapping found\n",
    "- Output is a remediated code list (ready for review or export)\n"
   ]
  }
 ],
 "metadata": {
  "kernelspec": {
   "display_name": "Python 3",
   "language": "python",
   "name": "python3"
  },
  "language_info": {
   "name": "python"
  }
 },
 "nbformat": 4,
 "nbformat_minor": 5
}