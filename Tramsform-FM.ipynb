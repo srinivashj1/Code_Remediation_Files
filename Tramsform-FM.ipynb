{
 "cells": [
  {
   "cell_type": "markdown",
   "metadata": {},
   "source": [
    "# Identify Function Module Availability in Excel\n",
    "\n",
    "This notebook checks if a given Function Module is present in the Excel file [`Obsolate_FM.xlsx`](https://github.com/srinivashj1/Code_Remediation/raw/main/Obsolate_FM.xlsx).\n",
    "\n",
    "- Input: Function Module name\n",
    "- Output: \"Yes\" if found, \"No\" if not found"
   ]
  },
  {
   "cell_type": "code",
   "execution_count": 1,
   "metadata": {},
   "outputs": [],
   "source": [
    "import pandas as pd\n",
    "import requests\n",
    "from io import BytesIO\n",
    "\n",
    "# Download the Excel file from GitHub\n",
    "excel_url = 'https://github.com/srinivashj1/Code_Remediation/raw/main/Obsolate_FM.xlsx'\n",
    "response = requests.get(excel_url)\n",
    "excel_data = BytesIO(response.content)\n",
    "\n",
    "# Load the Excel file\n",
    "df = pd.read_excel(excel_data)\n",
    "\n",
    "# Show first few rows to understand structure (uncomment if needed)\n",
    "# df.head()"
   ]
  },
  {
   "cell_type": "code",
   "execution_count": 2,
   "metadata": {},
   "outputs": [],
   "source": [
    "def check_function_module_exists(module_name, df, column_name=None):\n",
    "    \"\"\"\n",
    "    Check if a Function Module exists in the DataFrame.\n",
    "    :param module_name: Function Module to search for\n",
    "    :param df: DataFrame loaded from Excel\n",
    "    :param column_name: Column to search in, if known. If None, tries to auto-detect.\n",
    "    :return: 'Yes' if found, 'No' if not\n",
    "    \"\"\"\n",
    "    # Auto-detect column if not specified\n",
    "    if column_name is None:\n",
    "        # Try common names\n",
    "        for col in df.columns:\n",
    "            if 'function' in col.lower() or 'module' in col.lower():\n",
    "                column_name = col\n",
    "                break\n",
    "        if column_name is None:\n",
    "            # Use first column if nothing matches\n",
    "            column_name = df.columns[0]\n",
    "    \n",
    "    # Compare case-insensitively\n",
    "    exists = df[column_name].astype(str).str.strip().str.lower().eq(module_name.strip().lower()).any()\n",
    "    return \"Yes\" if exists else \"No\""
   ]
  },
  {
   "cell_type": "code",
   "execution_count": 3,
   "metadata": {},
   "outputs": [
    {
     "name": "stdout",
     "output_type": "stream",
     "text": [
      "Is 'ztetet' available? No\n"
     ]
    }
   ],
   "source": [
    "# Example usage\n",
    "function_module = input(\"Enter Function Module to check: \")\n",
    "result = check_function_module_exists(function_module, df)\n",
    "print(f\"Is '{function_module}' available? {result}\")"
   ]
  },
  {
   "cell_type": "code",
   "execution_count": 4,
   "metadata": {},
   "outputs": [
    {
     "name": "stdout",
     "output_type": "stream",
     "text": [
      "Is 'ztettsttt' available? No\n"
     ]
    }
   ],
   "source": [
    "test_module = \"ztettsttt\"\n",
    "test_result = check_function_module_exists(test_module, df)\n",
    "print(f\"Is '{test_module}' available? {test_result}\")"
   ]
  },
  {
   "cell_type": "code",
   "execution_count": 3,
   "metadata": {},
   "outputs": [
    {
     "name": "stdout",
     "output_type": "stream",
     "text": [
      "Is 'COM_PRODUCT_GETDETAIL_API' available? Yes\n"
     ]
    }
   ],
   "source": [
    "test_module_2 = \"COM_PRODUCT_GETDETAIL_API\"\n",
    "test_result_2 = check_function_module_exists(test_module_2, df)\n",
    "print(f\"Is '{test_module_2}' available? {test_result_2}\")"
   ]
  }
 ],
 "metadata": {
  "kernelspec": {
   "display_name": "Python 3",
   "language": "python",
   "name": "python3"
  },
  "language_info": {
   "codemirror_mode": {
    "name": "ipython",
    "version": 3
   },
   "file_extension": ".py",
   "mimetype": "text/x-python",
   "name": "python",
   "nbconvert_exporter": "python",
   "pygments_lexer": "ipython3",
   "version": "3.13.7"
  }
 },
 "nbformat": 4,
 "nbformat_minor": 2
}
