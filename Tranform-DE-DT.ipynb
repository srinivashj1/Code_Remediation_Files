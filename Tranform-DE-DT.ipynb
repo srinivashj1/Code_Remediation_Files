{
 "cells": [
  {
   "cell_type": "markdown",
   "metadata": {},
   "source": [
    "# CRM to S4 Mapping Lookup\n",
    "This notebook reads a mapping Excel file containing 'CRM' and 'S4' columns. It allows you to input a CRM value and retrieves the corresponding S4 value."
   ]
  },
  {
   "cell_type": "code",
   "execution_count": 2,
   "metadata": {},
   "outputs": [],
   "source": [
    "# Install pandas if not already available\n",
    "try:\n",
    "    import pandas as pd\n",
    "except ImportError:\n",
    "    !pip install pandas\n",
    "    import pandas as pd"
   ]
  },
  {
   "cell_type": "code",
   "execution_count": 4,
   "metadata": {},
   "outputs": [],
   "source": [
    "# Set the mapping Excel file URL\n",
    "MAPPING_URL = \"https://github.com/srinivashj1/Code_Remediation/raw/main/Data_Elements_Mapping.xlsx\""
   ]
  },
  {
   "cell_type": "code",
   "execution_count": 5,
   "metadata": {},
   "outputs": [],
   "source": [
    "# Read the Excel file\n",
    "try:\n",
    "    df = pd.read_excel(MAPPING_URL)\n",
    "except Exception as e:\n",
    "    print(f\"Error reading Excel file: {e}\")\n",
    "    df = None"
   ]
  },
  {
   "cell_type": "code",
   "execution_count": null,
   "metadata": {},
   "outputs": [],
   "source": [
    "# Show the columns for reference\n",
    "if df is not None:\n",
    "    print(\"Columns in mapping file:\", df.columns.tolist())\n",
    "    display(df.head())"
   ]
  },
  {
   "cell_type": "code",
   "execution_count": 6,
   "metadata": {},
   "outputs": [],
   "source": [
    "# Function to get S4 value for a given CRM string\n",
    "def get_s4_value(crm_value, df):\n",
    "    # Try exact match\n",
    "    result = df[df['CRM'] == crm_value]\n",
    "    if not result.empty:\n",
    "        return result.iloc[0]['S4']\n",
    "    # Try partial match\n",
    "    result = df[df['CRM'].astype(str).str.contains(str(crm_value), case=False, na=False)]\n",
    "    if not result.empty:\n",
    "        return result.iloc[0]['S4']\n",
    "    return None"
   ]
  },
  {
   "cell_type": "code",
   "execution_count": null,
   "metadata": {},
   "outputs": [],
   "source": [
    "# Example usage: Input CRM value to lookup\n",
    "if df is not None:\n",
    "    crm_input = input(\"Enter CRM value to lookup: \")\n",
    "    s4_value = get_s4_value(crm_input, df)\n",
    "    if s4_value:\n",
    "        print(f\"S4 value for CRM '{crm_input}': {s4_value}\")\n",
    "    else:\n",
    "        print(f\"No S4 mapping found for CRM '{crm_input}'\")"
   ]
  },
  {
   "cell_type": "code",
   "execution_count": 9,
   "metadata": {},
   "outputs": [
    {
     "name": "stdout",
     "output_type": "stream",
     "text": [
      "CRM: CRMT_SMS_CREATED_AT -> S4: CRMS4_DAYS_AFTER_CREATION_DATE\n",
      "CRM: COMT_PRODUCT -> S4: CRMS4_ICM_CAT_GUID\n",
      "No mapping for COMT_PRODUCT_MAINTAIN_API\n",
      "No mapping for crmd_object_guid_tab\n",
      "No mapping for ty_crmd_orderadm_h\n",
      "No mapping for ty_crmd_orderadm_i\n",
      "No mapping for crmc_proc_type\n",
      "No mapping for crmd_orderadm_h\n",
      "No mapping for crmc_tblobj_map\n",
      "No mapping for crmd_orderadm_h-guid\n",
      "No mapping for crmd_orderadm_h-object_type\n",
      "No mapping for crmd_orderadm_h-object_id\n",
      "No mapping for crmd_orderadm_i-guid\n",
      "No mapping for crmd_orderadm_i-number_int\n",
      "No mapping for crmd_orderadm_i-header\n",
      "No mapping for crmd_orderadm_i-object_type\n"
     ]
    }
   ],
   "source": [
    "# Check mappings for ABAP data types\n",
    "crm_types = [\"CRMT_SMS_CREATED_AT\", \"COMT_PRODUCT\", \"COMT_PRODUCT_MAINTAIN_API\", \"crmd_object_guid_tab\", \"ty_crmd_orderadm_h\", \"ty_crmd_orderadm_i\", \"crmc_proc_type\", \"crmd_orderadm_h\", \"crmc_tblobj_map\", \"crmd_orderadm_h-guid\", \"crmd_orderadm_h-object_type\", \"crmd_orderadm_h-object_id\", \"crmd_orderadm_i-guid\", \"crmd_orderadm_i-number_int\", \"crmd_orderadm_i-header\", \"crmd_orderadm_i-object_type\"]\n",
    "\n",
    "for crm in crm_types:\n",
    "    s4 = get_s4_value(crm, df)\n",
    "    if s4:\n",
    "        print(f\"CRM: {crm} -> S4: {s4}\")\n",
    "    else:\n",
    "        print(f\"No mapping for {crm}\")"
   ]
  }
 ],
 "metadata": {
  "kernelspec": {
   "display_name": "Python 3",
   "language": "python",
   "name": "python3"
  },
  "language_info": {
   "codemirror_mode": {
    "name": "ipython",
    "version": 3
   },
   "file_extension": ".py",
   "mimetype": "text/x-python",
   "name": "python",
   "nbconvert_exporter": "python",
   "pygments_lexer": "ipython3",
   "version": "3.13.7"
  }
 },
 "nbformat": 4,
 "nbformat_minor": 2
}
