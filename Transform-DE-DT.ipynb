{
 "cells": [
  {
   "cell_type": "markdown",
   "metadata": {},
   "source": [
    "# CRM to S4 Data Declaration Converter\n",
    "\n",
    "This notebook helps you convert CRM field names to S4 data declarations using a mapping Excel file.\n",
    "\n",
    "## Usage Instructions\n",
    "1. Run the first code cell to reset the notebook environment.\n",
    "2. Run the data loading cell. If the mapping file fails to load from the web, download it manually and set the local path.\n",
    "3. Confirm the mapping is loaded correctly by reviewing the printed columns and sample rows.\n",
    "4. Use the `crm_to_declaration` function to look up your CRM value.\n",
    "\n",
    "Example:\n",
    "```python\n",
    "crm_to_declaration('CRMT_SMS_CREATED_AT', df)\n",
    "```\n"
   ]
  },
  {
   "cell_type": "code",
   "execution_count": 1,
   "metadata": {},
   "outputs": [],
   "source": [
    "# Run this cell first to reset the environment\n",
    "import pandas as pd\n",
    "import numpy as np\n",
    "df = None"
   ]
  },
  {
   "cell_type": "code",
   "execution_count": 2,
   "metadata": {},
   "outputs": [],
   "source": [
    "# Try loading the mapping Excel file from GitHub or a local fallback\n",
    "file_url = 'https://github.com/srinivashj1/Code_Remediation_Files/raw/main/Mapping-DE-DT.xlsx'\n",
    "local_path = 'Mapping-DE-DT.xlsx'  # Change if you downloaded the file manually\n",
    "\n",
    "def load_mapping():\n",
    "    try:\n",
    "        print(f'Trying to load mapping from: {file_url}')\n",
    "        df = pd.read_excel(file_url)\n",
    "    except Exception as e:\n",
    "        print(f'Failed to load from URL: {e}')\n",
    "        try:\n",
    "            print(f'Trying to load mapping from local path: {local_path}')\n",
    "            df = pd.read_excel(local_path)\n",
    "        except Exception as e_local:\n",
    "            raise FileNotFoundError(f'Could not load mapping file from URL or local path: {e_local}')\n",
    "    print('Mapping columns:', df.columns.tolist())\n",
    "    print('Sample records:')\n",
    "    print(df.head())\n",
    "    return df\n",
    "\n",
    "df = load_mapping()"
   ]
  },
  {
   "cell_type": "code",
   "execution_count": 3,
   "metadata": {},
   "outputs": [],
   "source": [
    "# Utility: Check if a CRM value exists in the mapping\n",
    "def check_crm_value(crm_value, df):\n",
    "    matches = df[df['CRM'].astype(str).str.strip().str.lower() == crm_value.strip().lower()]\n",
    "    if not matches.empty:\n",
    "        print(f\"Found {len(matches)} mapping(s) for: {crm_value}\")\n",
    "        print(matches)\n",
    "    else:\n",
    "        print(f\"No mapping found for CRM value: {crm_value}\")\n",
    "\n",
    "# Example usage:\n",
    "# check_crm_value('CRMT_SMS_CREATED_AT', df)"
   ]
  },
  {
   "cell_type": "code",
   "execution_count": 4,
   "metadata": {},
   "outputs": [],
   "source": [
    "# Generate declaration string for a matched row\n",
    "def generate_declaration(row):\n",
    "    s4 = str(row.get('S4', '')).strip()\n",
    "    length = row.get('LENGTH', None)\n",
    "    decimal = row.get('DECIMAL', None)\n",
    "    parts = [s4] if s4 else []\n",
    "    if pd.notnull(length):\n",
    "        try:\n",
    "            length_int = int(float(length))\n",
    "            parts.append(f\"LENGTH {length_int}\")\n",
    "        except Exception:\n",
    "            pass\n",
    "    if decimal is not None and pd.notnull(decimal):\n",
    "        try:\n",
    "            decimal_int = int(float(decimal))\n",
    "            parts.append(f\"DECIMALS {decimal_int}\")\n",
    "        except Exception:\n",
    "            pass\n",
    "    return ' '.join(parts) if parts else \"Invalid mapping row\""
   ]
  },
  {
   "cell_type": "code",
   "execution_count": 5,
   "metadata": {},
   "outputs": [],
   "source": [
    "# Main lookup function: CRM value to S4 declaration\n",
    "def crm_to_declaration(crm_value, df):\n",
    "    matches = df[df['CRM'].astype(str).str.strip().str.lower() == crm_value.strip().lower()]\n",
    "    if not matches.empty:\n",
    "        row = matches.iloc[0]\n",
    "        return generate_declaration(row)\n",
    "    else:\n",
    "        return f\"No mapping found for CRM value: {crm_value}\""
   ]
  },
  {
   "cell_type": "markdown",
   "metadata": {},
   "source": [
    "## Example Usage\n",
    "Run the cell below (edit the value as needed) to get a declaration."
   ]
  },
  {
   "cell_type": "code",
   "execution_count": 6,
   "metadata": {},
   "outputs": [],
   "source": [
    "# Example: Lookup for a CRM value\n",
    "crm_value = 'CRMT_SMS_CREATED_AT'\n",
    "print(crm_to_declaration(crm_value, df))"
   ]
  }
 ],
 "metadata": {
  "kernelspec": {
   "display_name": "Python 3",
   "language": "python",
   "name": "python3"
  },
  "language_info": {
   "name": "python",
   "version": "3.8"
  }
 },
 "nbformat": 4,
 "nbformat_minor": 2
}
