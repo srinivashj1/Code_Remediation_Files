{
 "cells": [
  {
   "cell_type": "markdown",
   "metadata": {},
   "source": [
    "# Data Element to S4 Mapping Lookup\n",
    "This notebook finds the S4 mapping for a given ABAP DATA ELEMENT, using the provided Excel mapping sheet."
   ]
  },
  {
   "cell_type": "code",
   "metadata": {},
   "source": [
    "import pandas as pd"
   ],
   "execution_count": null,
   "outputs": []
  },
  {
   "cell_type": "markdown",
   "metadata": {},
   "source": [
    "## Load the Mapping Excel Sheet"
   ]
  },
  {
   "cell_type": "code",
   "metadata": {},
   "source": [
    "# Make sure Mapping-DE-DT.xlsx is in the same folder as this notebook!\n",
    "mapping_file = 'Mapping-DE-DT.xlsx'\n",
    "df = pd.read_excel(mapping_file)\n",
    "df.head()"
   ],
   "execution_count": null,
   "outputs": []
  },
  {
   "cell_type": "markdown",
   "metadata": {},
   "source": [
    "## Lookup Function"
   ]
  },
  {
   "cell_type": "code",
   "metadata": {},
   "source": [
    "def get_s4_declaration(data_element):\n",
    "    row = df.loc[df['CRM'] == data_element]\n",
    "    if row.empty:\n",
    "        return f\"No mapping found for: {data_element}\"\n",
    "    s4 = str(row.iloc[0]['S4']).strip()\n",
    "    length = row.iloc[0]['LENGTH']\n",
    "    decimal = row.iloc[0]['DECIMAL'] if 'DECIMAL' in row.columns else None\n",
    "    result = s4\n",
    "    if pd.notnull(length):\n",
    "        result += f\" LENGTH {int(float(length))}\"\n",
    "    if decimal is not None and pd.notnull(decimal):\n",
    "        result += f\" DECIMALS {int(float(decimal))}\"\n",
    "    return result"
   ],
   "execution_count": null,
   "outputs": []
  },
  {
   "cell_type": "markdown",
   "metadata": {},
   "source": [
    "## Example Usage\n",
    "Change the value below to test other DATA ELEMENTs."
   ]
  },
  {
   "cell_type": "code",
   "metadata": {},
   "source": [
    "data_element = 'CRMT_SMS_CREATED_AT'  # Change this to your DATA ELEMENT\n",
    "print(f\"Input DATA ELEMENT: {data_element}\")\n",
    "print(\"Transformed declaration:\")\n",
    "print(get_s4_declaration(data_element))"
   ],
   "execution_count": null,
   "outputs": []
  }
 ],
 "metadata": {
  "kernelspec": {
   "display_name": "Python 3",
   "language": "python",
   "name": "python3"
  },
  "language_info": {
   "name": "python"
  }
 },
 "nbformat": 4,
 "nbformat_minor": 5
}