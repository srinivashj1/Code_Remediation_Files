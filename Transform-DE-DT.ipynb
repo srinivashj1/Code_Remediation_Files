{
 "cells": [
  {
   "cell_type": "markdown",
   "metadata": {},
   "source": [
    "# CRM to S4 Data Declaration Converter\n",
    "This notebook reads mapping info from Mapping-DE-01.xlsx, and for each CRM value:\n",
    "- If the value exists in the CRM column, replaces it with the S4 column value and generates a standard data declaration with LENGTH and DECIMAL as provided.\n",
    "- Output format: `<S4> LENGTH <integer> DECIMALS <integer>` (no decimal points)."
   ]
  },
  {
   "cell_type": "code",
   "execution_count": 1,
   "metadata": {},
   "outputs": [],
   "source": [
    "import pandas as pd"
   ]
  },
  {
   "cell_type": "code",
   "execution_count": null,
   "metadata": {},
   "outputs": [],
   "source": [
    "# Read Excel file\n",
    "file_path = 'Mapping-DE-DT.xlsx'\n",
    "df = pd.read_excel(file_path)\n",
    "print('Columns:', df.columns.tolist())"
   ]
  },
  {
   "cell_type": "code",
   "execution_count": 3,
   "metadata": {},
   "outputs": [],
   "source": [
    "def generate_declaration(row):\n",
    "    s4 = str(row['S4']).strip()\n",
    "    length = row['LENGTH']\n",
    "    decimal = row['DECIMAL'] if 'DECIMAL' in row else None\n",
    "    parts = [s4]\n",
    "    # Add LENGTH if present\n",
    "    if pd.notnull(length):\n",
    "        length_int = int(float(length))\n",
    "        parts.append(f\"LENGTH {length_int}\")\n",
    "    # Add DECIMALS if present\n",
    "    if decimal is not None and pd.notnull(decimal):\n",
    "        decimal_int = int(float(decimal))\n",
    "        parts.append(f\"DECIMALS {decimal_int}\")\n",
    "    return ' '.join(parts)"
   ]
  },
  {
   "cell_type": "code",
   "execution_count": 4,
   "metadata": {},
   "outputs": [],
   "source": [
    "def crm_to_declaration(crm_value, df):\n",
    "    matches = df[df['CRM'].astype(str).str.strip() == crm_value.strip()]\n",
    "    if not matches.empty:\n",
    "        row = matches.iloc[0]\n",
    "        return generate_declaration(row)\n",
    "    else:\n",
    "        return f\"No mapping found for CRM value: {crm_value}\""
   ]
  }
 ],
 "metadata": {
  "kernelspec": {
   "display_name": "Python 3",
   "language": "python",
   "name": "python3"
  },
  "language_info": {
   "name": "python",
   "version": "3.8"
  }
 },
 "nbformat": 4,
 "nbformat_minor": 2
}
